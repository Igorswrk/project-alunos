{
 "cells": [
  {
   "cell_type": "markdown",
   "id": "f18a4cce-89df-4acd-8ed0-d5e8d0496559",
   "metadata": {
    "tags": []
   },
   "source": [
    "# Qual a média de nota por matéria e trimestre?"
   ]
  },
  {
   "cell_type": "code",
   "execution_count": 99,
   "id": "7af1e39e-1f4c-4fda-8795-6c71a63a5f1f",
   "metadata": {},
   "outputs": [],
   "source": [
    "import pandas as pd\n",
    "import numpy as np\n",
    "from sqlalchemy import create_engine, MetaData, Table, inspect "
   ]
  },
  {
   "cell_type": "code",
   "execution_count": 100,
   "id": "77ad6782-2567-46b5-b22f-597024bf6d36",
   "metadata": {},
   "outputs": [
    {
     "name": "stdout",
     "output_type": "stream",
     "text": [
      "['notas']\n"
     ]
    }
   ],
   "source": [
    "engine = create_engine('sqlite:///:memory:') # Criando banco SQL\n",
    "tabela_notas = pd.read_excel('files/tabela_nota.xlsx') # Importando tabela de notas\n",
    "tabela_notas.drop(tabela_notas.loc[tabela_notas['id_materia']==0].index, inplace=True) # Não é possivel saber qual materia ele fez\n",
    "tabela_notas['id'] = range(tabela_notas.shape[0])\n",
    "tabela_notas.set_index('id', inplace=True)\n",
    "tabela_notas.index = tabela_notas.index + 1\n",
    "tabela_notas.to_sql('notas', engine) \n",
    "inspector = inspect(engine) \n",
    "print(inspector.get_table_names())"
   ]
  },
  {
   "cell_type": "markdown",
   "id": "5847abba-2e1f-44c5-a3ec-00a438f4a004",
   "metadata": {
    "jp-MarkdownHeadingCollapsed": true,
    "tags": []
   },
   "source": [
    "## Média de notas por matéria"
   ]
  },
  {
   "cell_type": "code",
   "execution_count": 101,
   "id": "644fdf84-c190-4cf0-9f6d-8d49d03d20b9",
   "metadata": {},
   "outputs": [],
   "source": [
    "# Funcao que busca a tabela de notas da materia especificada para calcular a média\n",
    "def busca_tabela_notas_materia(id_materia: int):\n",
    "    query = f'select * from notas where id_materia = {id_materia}'\n",
    "    tabela_notas_materia = pd.read_sql(query, engine)\n",
    "    return tabela_notas_materia"
   ]
  },
  {
   "cell_type": "code",
   "execution_count": 102,
   "id": "c15757be-67d8-4fe9-9534-1ae470ca57c1",
   "metadata": {},
   "outputs": [],
   "source": [
    "# Funcao para calcular media das notas de cada materia\n",
    "def media_de_nota_por_materia(id_materia: int) -> float:\n",
    "    tabela_notas_materia = busca_tabela_notas_materia(id_materia)\n",
    "    media_notas = tabela_notas_materia['nota'].mean()\n",
    "    return media_notas"
   ]
  },
  {
   "cell_type": "code",
   "execution_count": 103,
   "id": "bfeb9119-6f7c-4b62-b8d8-d61f03a64ba2",
   "metadata": {},
   "outputs": [],
   "source": [
    "# Exportar no excel\n",
    "def exporta_para_excel(itens: list, nome_coluna_itens: str, valores: list, nome_coluna_valores: str, caminho: str):\n",
    "    dados = pd.DataFrame({nome_coluna_itens: itens, nome_coluna_valores: valores})\n",
    "    dados.to_excel(caminho, index=False)"
   ]
  },
  {
   "cell_type": "code",
   "execution_count": 104,
   "id": "38d0b98b-48b0-48db-b28b-ab27ac73217e",
   "metadata": {},
   "outputs": [],
   "source": [
    "# busca lista de todas as materias\n",
    "materias = pd.read_excel('files/tabela_materia.xlsx')['descricao']\n",
    "materias = list(materias)"
   ]
  },
  {
   "cell_type": "code",
   "execution_count": 112,
   "id": "b797b1ca-4f2e-43d2-a7e6-f9df92e4b5e5",
   "metadata": {},
   "outputs": [],
   "source": [
    "medias_notas_por_materias = []\n",
    "for i in range(1, len(materias) + 1):\n",
    "    medias_notas_por_materias.append(media_de_nota_por_materia(i))\n",
    "    \n",
    "# Exportando para excel um dataframe com os valores das médias das notas\n",
    "exporta_para_excel(materias, 'Materias', medias_notas_por_materias, 'Médias das Notas', 'files/files_questions/question_1/media_por_materia.xlsx')"
   ]
  },
  {
   "cell_type": "markdown",
   "id": "8c0057fc-4029-4c9c-98cd-7114edfd026a",
   "metadata": {
    "tags": []
   },
   "source": [
    "## Média de nota das matérias por trimestre"
   ]
  },
  {
   "cell_type": "code",
   "execution_count": 106,
   "id": "319e801e-44bd-42f9-8ca2-37d5af13289b",
   "metadata": {},
   "outputs": [],
   "source": [
    "# Funcao que busca a tabela de notas do trimestre especificada para calcular a média\n",
    "def busca_tabela_notas_trimestre(trimestre: int):\n",
    "    selecao = tabela_notas['data_inicio_trimestre'] == trimestres[trimestre]\n",
    "    return tabela_notas[selecao]"
   ]
  },
  {
   "cell_type": "code",
   "execution_count": 107,
   "id": "08f8fa52-d6ce-4cf0-8b7a-4bd12f371788",
   "metadata": {},
   "outputs": [],
   "source": [
    "# Funcao para calcular media das notas das materias em cada trimestre\n",
    "def media_de_nota_por_trimestre(trimestre: int) -> float:\n",
    "    tabela_notas = busca_tabela_notas_trimestre(trimestre)\n",
    "    media_notas = tabela_notas['nota'].mean()\n",
    "    return media_notas"
   ]
  },
  {
   "cell_type": "code",
   "execution_count": 108,
   "id": "1b91e3c7-5965-4814-b353-f005d0ad3255",
   "metadata": {},
   "outputs": [],
   "source": [
    "# Funcao que pega todos os trimestres de um ano especifico\n",
    "def pega_trimestres(trimestre: int) -> str:\n",
    "    tabela_trimestres = busca_tabela_notas_trimestre(trimestre)\n",
    "    data_trimestre = tabela_trimestres['data_inicio_trimestre'].tolist() \n",
    "    return data_trimestre"
   ]
  },
  {
   "cell_type": "code",
   "execution_count": 110,
   "id": "7cc3d65d-3074-4c54-a933-3b097ed020b5",
   "metadata": {},
   "outputs": [],
   "source": [
    "trimestres = list(tabela_notas['data_inicio_trimestre'].drop_duplicates())\n",
    "trimestres = sorted(trimestres)"
   ]
  },
  {
   "cell_type": "code",
   "execution_count": 115,
   "id": "0f8a5e39-db09-4f6f-b589-0b944b468104",
   "metadata": {},
   "outputs": [],
   "source": [
    "anos = ['2017', '2018', '2019', '2020', '2021'] # todos os anos presente na lista\n",
    "iterr_list = [0, 1, 2, 3, 5] # Conseguir percorrer corretamente a lista de trimestres\n",
    "\n",
    "# Exportando os valores das medias por trimestre de cada ano, em arquivo excel separado\n",
    "for j, k in zip(iterr_list, anos):\n",
    "    list_trimestres = []\n",
    "    list_media_notas = []\n",
    "    for i in range(j, len(trimestres), 5):\n",
    "        list_media_notas.append(media_de_nota_por_trimestre(i))\n",
    "        list_trimestres.append(pega_trimestres(i)[0])\n",
    "   \n",
    "    exporta_para_excel(list_trimestres, 'Trimestre', list_media_notas, 'Média das Notas', f'files/files_questions/question_1/media_por_trimestre-{k}.xlsx')"
   ]
  },
  {
   "cell_type": "code",
   "execution_count": null,
   "id": "371ca8e1-594f-472b-9513-f66d7067e86d",
   "metadata": {},
   "outputs": [],
   "source": []
  }
 ],
 "metadata": {
  "kernelspec": {
   "display_name": "Python 3 (ipykernel)",
   "language": "python",
   "name": "python3"
  },
  "language_info": {
   "codemirror_mode": {
    "name": "ipython",
    "version": 3
   },
   "file_extension": ".py",
   "mimetype": "text/x-python",
   "name": "python",
   "nbconvert_exporter": "python",
   "pygments_lexer": "ipython3",
   "version": "3.9.7"
  }
 },
 "nbformat": 4,
 "nbformat_minor": 5
}
