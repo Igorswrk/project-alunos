{
 "cells": [
  {
   "cell_type": "code",
   "execution_count": 213,
   "id": "f0f4a082-531a-4b89-8fef-d5738e2136a2",
   "metadata": {},
   "outputs": [],
   "source": [
    "import numpy as np\n",
    "import pandas as pd\n",
    "from sqlalchemy import create_engine, MetaData, Table, inspect "
   ]
  },
  {
   "cell_type": "code",
   "execution_count": 214,
   "id": "654b3d3c-3993-47ec-b5d8-8f155dedd2d6",
   "metadata": {},
   "outputs": [],
   "source": [
    "engine = create_engine('sqlite:///:memory:') # Criando banco SQL"
   ]
  },
  {
   "cell_type": "code",
   "execution_count": 215,
   "id": "94eb0231-7522-4870-865d-72d42fd000be",
   "metadata": {},
   "outputs": [
    {
     "name": "stdout",
     "output_type": "stream",
     "text": [
      "['notas']\n"
     ]
    }
   ],
   "source": [
    "tabela_notas = pd.read_excel('files/tabela_nota.xlsx') # Importando tabela de notas\n",
    "tabela_notas.drop(tabela_notas.loc[tabela_notas['id_materia']==0].index, inplace=True) # Não é possivel saber qual materia ele fez\n",
    "tabela_notas['id'] = range(tabela_notas.shape[0])\n",
    "tabela_notas.set_index('id', inplace=True)\n",
    "tabela_notas.index = tabela_notas.index + 1\n",
    "tabela_notas.rename(columns={'id_professor(a)': 'id_professor'}, inplace=True)\n",
    "tabela_notas.to_sql('notas', engine) \n",
    "inspector = inspect(engine) \n",
    "print(inspector.get_table_names())"
   ]
  },
  {
   "cell_type": "code",
   "execution_count": 216,
   "id": "ce6f3345-f27f-436f-8418-5abeb0880554",
   "metadata": {
    "tags": []
   },
   "outputs": [],
   "source": [
    "''' \n",
    "Assumindo que o número total de aulas por materia no semestre é 40 \n",
    "''' \n",
    "\n",
    "total_de_aulas = 40"
   ]
  },
  {
   "cell_type": "code",
   "execution_count": 217,
   "id": "57aadff6-1b61-428e-b7fb-a67b1a23d9a5",
   "metadata": {},
   "outputs": [],
   "source": [
    "### Calculando taxa de frequencia por materia e semestre"
   ]
  },
  {
   "cell_type": "code",
   "execution_count": 221,
   "id": "ae657615-2e72-49ff-af34-ed652d2528f4",
   "metadata": {},
   "outputs": [],
   "source": [
    "# importa tabela de estudantes\n",
    "tabela_estudantes = pd.read_excel('files/tabela_estudante.xlsx', index_col=False) # Importando tabela de alunos\n",
    "tabela_estudantes.set_index('Unnamed: 0', inplace=True)\n",
    "tabela_estudantes.index.rename('id', inplace=True)"
   ]
  },
  {
   "cell_type": "code",
   "execution_count": 219,
   "id": "90d4da29-30fa-40f1-8d1d-683dd5eb66e4",
   "metadata": {},
   "outputs": [],
   "source": [
    "total_faltas_alunos = []\n",
    "taxa_de_falta_por_semestre_e_materias = []\n",
    "\n",
    "for i in range(1, tabela_estudantes.shape[0] + 1):\n",
    "    query = f'select * from notas where id_estudante = {i}'\n",
    "    notas_aluno = pd.read_sql(query, engine)\n",
    "    for j in range(1):\n",
    "        taxa_de_falta_por_semestre_e_materias.append((notas_aluno['faltas']/total_de_aulas))"
   ]
  },
  {
   "cell_type": "code",
   "execution_count": 220,
   "id": "b2413a63-b5cb-4074-854a-a29b255302a6",
   "metadata": {},
   "outputs": [],
   "source": [
    "taxa_de_falta_por_semestre_e_materias = pd.DataFrame(taxa_de_falta_por_semestre_e_materias).fillna(0)\n",
    "taxa_de_falta_por_semestre_e_materias.index = tabela_estudantes['nome']\n",
    "taxa_de_falta_por_semestre_e_materias = taxa_de_falta_por_semestre_e_materias.replace(0, '-')\n",
    "taxa_de_falta_por_semestre_e_materias.index.rename('Estudantes', inplace=True)\n",
    "taxa_de_falta_por_semestre_e_materias.to_excel('files/files_questions/question_8/taxa_de_falta_por_materia_de_cada_aluno.xlsx')"
   ]
  },
  {
   "cell_type": "code",
   "execution_count": null,
   "id": "2237a695-e33d-4296-add8-66731d2ae0db",
   "metadata": {},
   "outputs": [],
   "source": []
  }
 ],
 "metadata": {
  "kernelspec": {
   "display_name": "Python 3 (ipykernel)",
   "language": "python",
   "name": "python3"
  },
  "language_info": {
   "codemirror_mode": {
    "name": "ipython",
    "version": 3
   },
   "file_extension": ".py",
   "mimetype": "text/x-python",
   "name": "python",
   "nbconvert_exporter": "python",
   "pygments_lexer": "ipython3",
   "version": "3.9.7"
  }
 },
 "nbformat": 4,
 "nbformat_minor": 5
}
