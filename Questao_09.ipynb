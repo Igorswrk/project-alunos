{
 "cells": [
  {
   "cell_type": "markdown",
   "id": "f438f334-1a2f-46c7-bd43-e43fa148614a",
   "metadata": {},
   "source": [
    "# Existe alguma análise específica que você gostaria de acrescentar?"
   ]
  },
  {
   "cell_type": "code",
   "execution_count": 1,
   "id": "29ec4739-f93f-4c84-a183-8d9ca7140259",
   "metadata": {},
   "outputs": [
    {
     "name": "stdout",
     "output_type": "stream",
     "text": [
      "importing Jupyter notebook from Questao_02.ipynb\n",
      "['notas']\n"
     ]
    }
   ],
   "source": [
    "import numpy as np\n",
    "import pandas as pd\n",
    "from sqlalchemy import create_engine, MetaData, Table, inspect \n",
    "import import_ipynb\n",
    "from Questao_02 import *"
   ]
  },
  {
   "cell_type": "code",
   "execution_count": 2,
   "id": "038159dc-9473-4ff1-82cc-75c5741181fc",
   "metadata": {},
   "outputs": [],
   "source": [
    "engine = create_engine('sqlite:///:memory:') # Criando banco SQL"
   ]
  },
  {
   "cell_type": "code",
   "execution_count": 3,
   "id": "7a9b9236-3729-48c2-9978-33f85b3e3c09",
   "metadata": {},
   "outputs": [
    {
     "name": "stdout",
     "output_type": "stream",
     "text": [
      "['notas']\n"
     ]
    }
   ],
   "source": [
    "tabela_notas = pd.read_excel('files/tabela_nota.xlsx') # Importando tabela de notas\n",
    "tabela_notas.drop(tabela_notas.loc[tabela_notas['id_materia']==0].index, inplace=True) # Não é possivel saber qual materia ele fez\n",
    "tabela_notas['id'] = range(tabela_notas.shape[0])\n",
    "tabela_notas.set_index('id', inplace=True)\n",
    "tabela_notas.index = tabela_notas.index + 1\n",
    "tabela_notas.rename(columns={'id_professor(a)': 'id_professor'}, inplace=True)\n",
    "tabela_notas.to_sql('notas', engine) \n",
    "inspector = inspect(engine) \n",
    "print(inspector.get_table_names())"
   ]
  },
  {
   "cell_type": "code",
   "execution_count": 4,
   "id": "a1e807f3-3ac1-4f54-a820-870d7cf5aeca",
   "metadata": {},
   "outputs": [
    {
     "name": "stdout",
     "output_type": "stream",
     "text": [
      "['estudantes', 'notas']\n"
     ]
    }
   ],
   "source": [
    "# importa tabela de estudantes\n",
    "tabela_estudantes = pd.read_excel('files/tabela_estudante.xlsx', index_col=False) # Importando tabela de alunos\n",
    "tabela_estudantes.set_index('Unnamed: 0', inplace=True)\n",
    "tabela_estudantes.index.rename('id', inplace=True)\n",
    "tabela_estudantes.to_sql('estudantes', engine) \n",
    "inspector = inspect(engine) \n",
    "print(inspector.get_table_names())"
   ]
  },
  {
   "cell_type": "code",
   "execution_count": 69,
   "id": "5ec69205-aeaf-48f2-a4ee-785a9a4418a5",
   "metadata": {},
   "outputs": [],
   "source": [
    "# Pega a lista de todas as turmas presentes na tabela estudantes\n",
    "def pega_todos_nro_turma():\n",
    "    tabela_nro_turmas = tabela_estudantes['nro_turma'].drop_duplicates()\n",
    "    return tabela_nro_turmas\n",
    "\n",
    "# Ordenando a coluna de index por ondem crescente\n",
    "def tratando_coluna_index(tabela_nro_turmas):\n",
    "    tabela_nro_turmas = pega_todos_nro_turma()\n",
    "    tabela_nro_turmas.index = range(1, tabela_nro_turmas.shape[0] + 1)\n",
    "    return tabela_nro_turmas\n",
    "\n",
    "# Separa todos os alunos por turma\n",
    "def separa_alunos_por_turma(nro_turma: int):\n",
    "    query = f'select * from estudantes where nro_turma = {nro_turma}'\n",
    "    alunos = pd.read_sql(query, engine)\n",
    "    return alunos \n",
    "\n",
    "# Pega lista de alunos por turma\n",
    "def pega_alunos_por_turma(nro_turma: int):\n",
    "    alunos = separa_alunos_por_turma(nro_turma)\n",
    "    return alunos\n",
    "\n",
    "# Calcula a media de todos os alunos semelhante a questão 2, foi ultilizado funçoes do arquivo da questão 2\n",
    "def calcula_media_todos_alunos():\n",
    "    media_nota_dos_alunos = []\n",
    "    qtd_alunos = tabela_alunos.shape[0] + 1\n",
    "    for i in range(1, qtd_alunos):\n",
    "        media_nota_dos_alunos.append(media_notas_aluno_selecionado(traz_nome_aluno(i)))\n",
    "    return media_nota_dos_alunos\n",
    "\n",
    "# Pega a media das notas de cada aluno por turma\n",
    "def pega_media_dos_alunos_da_turma(nro_turma: id):\n",
    "    notas_turma = []\n",
    "    \n",
    "    alunos = pega_alunos_por_turma(nro_turma)\n",
    "    list_alunos = list(alunos.id - 1)\n",
    "    \n",
    "    media_de_todos = calcula_media_todos_alunos()\n",
    "    tamanho_lista = len(list_alunos)\n",
    "    \n",
    "    for i in range(tamanho_lista):\n",
    "        notas_turma.append(media_de_todos[list_alunos[i]])\n",
    "    \n",
    "    return notas_turma \n",
    "\n",
    "# Calcula a media das notas medias de cada aluno da turma\n",
    "def calcula_media_de_notas_turma(nro_turma: id):\n",
    "    notas_turma = pega_media_dos_alunos_da_turma(nro_turma)\n",
    "    notas_turma = np.mean(notas_turma)\n",
    "    return notas_turma\n",
    "\n",
    "def calcula_frequencia_por_turma(nro_turma: id):\n",
    "    media_alunos_turma = []\n",
    "    alunos = list(separa_alunos_por_turma(nro_turma)['id'])\n",
    "    tabela = tabela_notas[['id_estudante', 'faltas']]\n",
    "    tabela = tabela[tabela.id_estudante.isin(alunos)]\n",
    "    for i in alunos:\n",
    "        tabela_aux = tabela[tabela['id_estudante'] == i]\n",
    "        media_alunos_turma.append(tabela_aux['faltas'].mean())\n",
    "        media_turma = np.mean(media_alunos_turma)\n",
    "    \n",
    "    return media_turma"
   ]
  },
  {
   "cell_type": "markdown",
   "id": "b618ec23-ccde-4a43-b6e0-fe545cd7d0d6",
   "metadata": {},
   "source": [
    "### Qual turma teve o melhor desemepenho em notas?"
   ]
  },
  {
   "cell_type": "code",
   "execution_count": 81,
   "id": "99cc864b-70ac-4c0a-957b-854460579f73",
   "metadata": {},
   "outputs": [],
   "source": [
    "medias_por_turma = []\n",
    "Turmas = ['Estatística - 12', 'Matemática Aplicada - 20', 'Matemática Aplicada - 21', 'Estatística - 13']\n",
    "\n",
    "list_turmas = list(pega_todos_nro_turma())\n",
    "qtd_turmas = len(list_turmas)\n",
    "\n",
    "for i in range(qtd_turmas):\n",
    "    medias_por_turma.append(calcula_media_de_notas_turma(list_turmas[i]))\n",
    "    \n",
    "exporta_para_excel(Turmas, 'Turma', medias_por_turma, 'Média das Notas por Turma', 'files/files_questions/question_9/media_por_turma.xlsx')"
   ]
  },
  {
   "cell_type": "markdown",
   "id": "a1f3b286-1158-4474-8a8c-d0c5ab70cfab",
   "metadata": {},
   "source": [
    "### Qual turma teve menos faltas? "
   ]
  },
  {
   "cell_type": "code",
   "execution_count": 82,
   "id": "a6b1cd3e-f9a4-4611-982a-2b53bdcfc225",
   "metadata": {},
   "outputs": [],
   "source": [
    "frequencia_por_turma = []\n",
    "\n",
    "for i in list_turmas:\n",
    "    freq_turma_selecionada = calcula_frequencia_por_turma(i)\n",
    "    frequencia_por_turma.append(freq_turma_selecionada)\n",
    "    \n",
    "exporta_para_excel(Turmas, 'Turma', frequencia_por_turma, 'Média de faltas por Turma', 'files/files_questions/question_9/frequencia_por_turma.xlsx')"
   ]
  },
  {
   "cell_type": "code",
   "execution_count": null,
   "id": "2ab7d005-3a03-4dce-b552-1bbca43deb05",
   "metadata": {},
   "outputs": [],
   "source": []
  },
  {
   "cell_type": "code",
   "execution_count": null,
   "id": "120d9170-ba47-4538-94aa-d17519180436",
   "metadata": {},
   "outputs": [],
   "source": []
  },
  {
   "cell_type": "code",
   "execution_count": null,
   "id": "14cb18c4-cdda-4816-b0bb-a3b8b31c29c0",
   "metadata": {},
   "outputs": [],
   "source": []
  },
  {
   "cell_type": "code",
   "execution_count": null,
   "id": "3b0f224d-241e-40b7-a586-24562bf7a889",
   "metadata": {},
   "outputs": [],
   "source": []
  },
  {
   "cell_type": "code",
   "execution_count": null,
   "id": "28bc4096-b0ca-4f8a-9fce-3d277935d564",
   "metadata": {},
   "outputs": [],
   "source": []
  },
  {
   "cell_type": "code",
   "execution_count": null,
   "id": "049db9e0-e344-49c0-80d1-7d121bb15f4d",
   "metadata": {},
   "outputs": [],
   "source": []
  }
 ],
 "metadata": {
  "kernelspec": {
   "display_name": "Python 3 (ipykernel)",
   "language": "python",
   "name": "python3"
  },
  "language_info": {
   "codemirror_mode": {
    "name": "ipython",
    "version": 3
   },
   "file_extension": ".py",
   "mimetype": "text/x-python",
   "name": "python",
   "nbconvert_exporter": "python",
   "pygments_lexer": "ipython3",
   "version": "3.9.7"
  }
 },
 "nbformat": 4,
 "nbformat_minor": 5
}
