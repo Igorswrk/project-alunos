{
 "cells": [
  {
   "cell_type": "markdown",
   "id": "399e077f-975e-43bf-b13e-a51afe8c429c",
   "metadata": {
    "tags": []
   },
   "source": [
    "# Qual aluno tem menor desvio padrão de notas?"
   ]
  },
  {
   "cell_type": "code",
   "execution_count": 57,
   "id": "743ee16f-24f0-47c9-8fad-d84eaccf9cc9",
   "metadata": {},
   "outputs": [],
   "source": [
    "import numpy as np\n",
    "import pandas as pd\n",
    "from sqlalchemy import create_engine, MetaData, Table, inspect "
   ]
  },
  {
   "cell_type": "code",
   "execution_count": 58,
   "id": "df6966ad-a945-42db-b2dc-304a73c3bf0e",
   "metadata": {},
   "outputs": [
    {
     "data": {
      "text/plain": [
       "Engine(sqlite:///:memory:)"
      ]
     },
     "execution_count": 58,
     "metadata": {},
     "output_type": "execute_result"
    }
   ],
   "source": [
    "engine = create_engine('sqlite:///:memory:') # Criando banco SQL\n",
    "engine "
   ]
  },
  {
   "cell_type": "code",
   "execution_count": 59,
   "id": "e742fe75-a1dc-4780-9176-a117f41db4e6",
   "metadata": {},
   "outputs": [
    {
     "name": "stdout",
     "output_type": "stream",
     "text": [
      "['notas']\n"
     ]
    }
   ],
   "source": [
    "tabela_notas = pd.read_excel('files/tabela_nota.xlsx') # Importando tabela de notas\n",
    "tabela_notas.drop(tabela_notas.loc[tabela_notas['id_materia']==0].index, inplace=True) # Não é possivel saber qual materia ele fez\n",
    "tabela_notas['id'] = range(tabela_notas.shape[0])\n",
    "tabela_notas.set_index('id', inplace=True)\n",
    "tabela_notas.index = tabela_notas.index + 1\n",
    "tabela_notas.to_sql('notas', engine) \n",
    "inspector = inspect(engine) \n",
    "print(inspector.get_table_names())"
   ]
  },
  {
   "cell_type": "code",
   "execution_count": 60,
   "id": "192e6c7b-8c96-4b1d-a823-d442a3453967",
   "metadata": {},
   "outputs": [],
   "source": [
    "tabela_alunos = pd.read_excel('files/tabela_estudante.xlsx', index_col=False) # Importando tabela de alunos\n",
    "tabela_alunos.set_index('Unnamed: 0', inplace=True)\n",
    "tabela_alunos.index.rename('id', inplace=True)"
   ]
  },
  {
   "cell_type": "markdown",
   "id": "baa1d3a0-8e48-4feb-a28c-4bd25abdf1bc",
   "metadata": {
    "tags": []
   },
   "source": [
    "## Desvio padrão de nota por aluno"
   ]
  },
  {
   "cell_type": "code",
   "execution_count": 61,
   "id": "ef388aad-2a77-4520-ac8b-ebc047f30f7c",
   "metadata": {},
   "outputs": [],
   "source": [
    "# Função que seleciona o aluno para fazer o calculo do desvio padrao das notas\n",
    "def seleciona_aluno(nome: str) -> int:\n",
    "    aluno = tabela_alunos[tabela_alunos['nome'] == nome].index\n",
    "    aluno = aluno[0]\n",
    "    return aluno\n",
    "\n",
    "# Funcao que busca a tabela de notas do aluno selecionado\n",
    "def busca_tabela_notas_aluno(nome_aluno: str):\n",
    "    query = f'select * from notas where id_estudante = {seleciona_aluno(nome_aluno)}'\n",
    "    notas_aluno_selecionado = pd.read_sql(query, engine)\n",
    "    return notas_aluno_selecionado\n",
    "\n",
    "# Pega o nome do aluno selecionado\n",
    "def traz_nome_aluno(id_aluno: int) -> str:\n",
    "    nome_aluno = tabela_alunos['nome'][id_aluno]\n",
    "    return nome_aluno\n",
    "\n",
    "# Transforma df em lista \n",
    "def pega_lista_de_notas_aluno(notas_aluno_selecionado):\n",
    "    notas = []\n",
    "    notas.append(notas_aluno_selecionado['nota'].tolist())\n",
    "    return notas_aluno\n",
    "\n",
    "def calcula_desvio_padrao(nome_aluno: str) -> float:\n",
    "    notas_aluno_selecionado = busca_tabela_notas_aluno(nome_aluno)\n",
    "    desvio_padrao_notas = notas_aluno_selecionado['nota'].std()\n",
    "    return desvio_padrao_notas\n",
    "\n",
    "# Exportar no excel\n",
    "def exporta_para_excel(itens: list, nome_coluna_itens: str, valores: list, nome_coluna_valores: str, caminho: str):\n",
    "    dados = pd.DataFrame({nome_coluna_itens: itens, nome_coluna_valores: valores})\n",
    "    dados.to_excel(caminho, index=False)"
   ]
  },
  {
   "cell_type": "markdown",
   "id": "00bccc4f-5c6f-4bc2-898e-75f2f06c6917",
   "metadata": {},
   "source": [
    "### Francisco Alves "
   ]
  },
  {
   "cell_type": "code",
   "execution_count": 62,
   "id": "dfef5709-f00e-4896-8022-6da500a4edbf",
   "metadata": {},
   "outputs": [],
   "source": [
    "desvio_padrao_notas = []\n",
    "qtd_alunos = tabela_alunos.shape[0] + 1\n",
    "\n",
    "for i in range(1, qtd_alunos):\n",
    "    desvio_padrao_notas.append(calcula_desvio_padrao(traz_nome_aluno(i)))\n",
    "\n",
    "desvio_padrao_notas = pd.DataFrame(desvio_padrao_notas).fillna(0)\n",
    "desvio_padrao_notas = list(desvio_padrao_notas[0])"
   ]
  },
  {
   "cell_type": "code",
   "execution_count": 63,
   "id": "db363d9a-9675-44ed-9577-367dc2b4e988",
   "metadata": {},
   "outputs": [],
   "source": [
    "estudantes = list(tabela_alunos['nome'])"
   ]
  },
  {
   "cell_type": "code",
   "execution_count": 64,
   "id": "9d3fc0bf-b6b7-456e-aa9a-c29f7bd1002f",
   "metadata": {},
   "outputs": [],
   "source": [
    "exporta_para_excel(estudantes, 'Estudante', desvio_padrao_notas, 'Desvio Padrão de Notas', 'files/files_questions/question_6/desvio_padrao_notas_alunos.xlsx')"
   ]
  },
  {
   "cell_type": "code",
   "execution_count": null,
   "id": "0a8d0fce-a6da-4639-8715-3769d4c168d3",
   "metadata": {},
   "outputs": [],
   "source": []
  }
 ],
 "metadata": {
  "kernelspec": {
   "display_name": "Python 3 (ipykernel)",
   "language": "python",
   "name": "python3"
  },
  "language_info": {
   "codemirror_mode": {
    "name": "ipython",
    "version": 3
   },
   "file_extension": ".py",
   "mimetype": "text/x-python",
   "name": "python",
   "nbconvert_exporter": "python",
   "pygments_lexer": "ipython3",
   "version": "3.9.7"
  }
 },
 "nbformat": 4,
 "nbformat_minor": 5
}
