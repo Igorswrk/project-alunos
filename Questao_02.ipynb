{
 "cells": [
  {
   "cell_type": "markdown",
   "id": "399e077f-975e-43bf-b13e-a51afe8c429c",
   "metadata": {
    "tags": []
   },
   "source": [
    "# Qual a média de nota por aluno e trimestre?"
   ]
  },
  {
   "cell_type": "code",
   "execution_count": 21,
   "id": "743ee16f-24f0-47c9-8fad-d84eaccf9cc9",
   "metadata": {},
   "outputs": [],
   "source": [
    "import numpy as np\n",
    "import pandas as pd\n",
    "from sqlalchemy import create_engine, MetaData, Table, inspect "
   ]
  },
  {
   "cell_type": "code",
   "execution_count": 22,
   "id": "df6966ad-a945-42db-b2dc-304a73c3bf0e",
   "metadata": {},
   "outputs": [
    {
     "data": {
      "text/plain": [
       "Engine(sqlite:///:memory:)"
      ]
     },
     "execution_count": 22,
     "metadata": {},
     "output_type": "execute_result"
    }
   ],
   "source": [
    "engine = create_engine('sqlite:///:memory:') # Criando banco SQL\n",
    "engine "
   ]
  },
  {
   "cell_type": "code",
   "execution_count": 23,
   "id": "e742fe75-a1dc-4780-9176-a117f41db4e6",
   "metadata": {},
   "outputs": [
    {
     "name": "stdout",
     "output_type": "stream",
     "text": [
      "['notas']\n"
     ]
    }
   ],
   "source": [
    "tabela_notas = pd.read_excel('files/tabela_nota.xlsx') # Importando tabela de notas\n",
    "tabela_notas.drop(tabela_notas.loc[tabela_notas['id_materia']==0].index, inplace=True) # Não é possivel saber qual materia ele fez\n",
    "tabela_notas['id'] = range(tabela_notas.shape[0])\n",
    "tabela_notas.set_index('id', inplace=True)\n",
    "tabela_notas.index = tabela_notas.index + 1\n",
    "tabela_notas.to_sql('notas', engine) \n",
    "inspector = inspect(engine) \n",
    "print(inspector.get_table_names())"
   ]
  },
  {
   "cell_type": "code",
   "execution_count": 31,
   "id": "def45b8d-cbc6-4bfd-9b75-b6e22adccad7",
   "metadata": {},
   "outputs": [],
   "source": [
    "tabela_alunos = pd.read_excel('files/tabela_estudante.xlsx', index_col=False) # Importando tabela de alunos\n",
    "tabela_alunos.set_index('Unnamed: 0', inplace=True)\n",
    "tabela_alunos.index.rename('id', inplace=True)"
   ]
  },
  {
   "cell_type": "markdown",
   "id": "baa1d3a0-8e48-4feb-a28c-4bd25abdf1bc",
   "metadata": {
    "tags": []
   },
   "source": [
    "## Média de nota por aluno"
   ]
  },
  {
   "cell_type": "code",
   "execution_count": 53,
   "id": "2006aa67-1bbd-494a-8557-9230eade6407",
   "metadata": {},
   "outputs": [],
   "source": [
    "# Função que seleciona o aluno para fazer a media das notas\n",
    "def seleciona_aluno(nome: str) -> int:\n",
    "    aluno = tabela_alunos[tabela_alunos['nome'] == nome].index\n",
    "    aluno = aluno[0]\n",
    "    return aluno\n",
    "\n",
    "# Funcao que busca a tabela de notas do aluno selecionado\n",
    "def busca_tabela_notas_aluno(nome_aluno: str):\n",
    "    query = f'select * from notas where id_estudante = {seleciona_aluno(nome_aluno)}'\n",
    "    notas_aluno_selecionado = pd.read_sql(query, engine)\n",
    "    return notas_aluno_selecionado\n",
    "\n",
    "# Pega o nome do aluno selecionado\n",
    "def traz_nome_aluno(id_aluno: int) -> str:\n",
    "    nome_aluno = tabela_alunos['nome'][id_aluno]\n",
    "    return nome_aluno\n",
    "    \n",
    "# Funcao para calcular media das notas de cada aluno\n",
    "def media_notas_aluno_selecionado(nome_aluno: str) -> float:\n",
    "    notas_aluno_selecionado = busca_tabela_notas_aluno(nome_aluno)\n",
    "    media_notas = notas_aluno_selecionado['nota'].mean()\n",
    "    return media_notas\n",
    "\n",
    "# Exportar no excel\n",
    "def exporta_para_excel(itens: list, nome_coluna_itens: str, valores: list, nome_coluna_valores: str, caminho: str):\n",
    "    dados = pd.DataFrame({nome_coluna_itens: itens, nome_coluna_valores: valores})\n",
    "    dados.to_excel(caminho, index=False)"
   ]
  },
  {
   "cell_type": "code",
   "execution_count": 50,
   "id": "699157f4-0b27-44f8-a5ac-af6e574b3882",
   "metadata": {},
   "outputs": [],
   "source": [
    "media_nota_dos_alunos = []\n",
    "qtd_alunos = tabela_alunos.shape[0] + 1\n",
    "\n",
    "for i in range(1, qtd_alunos):\n",
    "    media_nota_dos_alunos.append(media_notas_aluno_selecionado(traz_nome_aluno(i)))"
   ]
  },
  {
   "cell_type": "code",
   "execution_count": 51,
   "id": "db363d9a-9675-44ed-9577-367dc2b4e988",
   "metadata": {},
   "outputs": [],
   "source": [
    "estudantes = list(tabela_alunos['nome'])"
   ]
  },
  {
   "cell_type": "code",
   "execution_count": 52,
   "id": "9d3fc0bf-b6b7-456e-aa9a-c29f7bd1002f",
   "metadata": {},
   "outputs": [],
   "source": [
    "exporta_para_excel(estudantes, 'Estudante', media_nota_dos_alunos, 'Média das Notas', 'files/files_questions/question_2/media_por_estudante.xlsx')"
   ]
  },
  {
   "cell_type": "code",
   "execution_count": null,
   "id": "7ef44a4d-cbdc-48ef-811e-6548cf459adc",
   "metadata": {},
   "outputs": [],
   "source": []
  }
 ],
 "metadata": {
  "kernelspec": {
   "display_name": "Python 3 (ipykernel)",
   "language": "python",
   "name": "python3"
  },
  "language_info": {
   "codemirror_mode": {
    "name": "ipython",
    "version": 3
   },
   "file_extension": ".py",
   "mimetype": "text/x-python",
   "name": "python",
   "nbconvert_exporter": "python",
   "pygments_lexer": "ipython3",
   "version": "3.9.7"
  }
 },
 "nbformat": 4,
 "nbformat_minor": 5
}
