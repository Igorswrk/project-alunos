{
 "cells": [
  {
   "cell_type": "markdown",
   "id": "bc4d9c87-6ef4-4341-af63-c35c6c18a3bc",
   "metadata": {},
   "source": [
    "# Qual professor reprova mais e qual aprova mais ?"
   ]
  },
  {
   "cell_type": "code",
   "execution_count": 2,
   "id": "990d04ad-8c05-4ef4-b1bd-6d614800ccb6",
   "metadata": {},
   "outputs": [],
   "source": [
    "import numpy as np\n",
    "import pandas as pd\n",
    "from sqlalchemy import create_engine, MetaData, Table, inspect "
   ]
  },
  {
   "cell_type": "code",
   "execution_count": 3,
   "id": "a8c31b5d-bbdb-4b8a-9045-e667df5776bf",
   "metadata": {},
   "outputs": [
    {
     "data": {
      "text/plain": [
       "Engine(sqlite:///:memory:)"
      ]
     },
     "execution_count": 52,
     "metadata": {},
     "output_type": "execute_result"
    }
   ],
   "source": [
    "engine = create_engine('sqlite:///:memory:') # Criando banco SQL\n",
    "engine "
   ]
  },
  {
   "cell_type": "code",
   "execution_count": 4,
   "id": "1de59f7f-3e42-4231-b397-63492e57f4b7",
   "metadata": {},
   "outputs": [],
   "source": [
    "tabela_notas = pd.read_excel('files/tabela_nota.xlsx') # Importando tabela de notas\n",
    "tabela_notas.drop(tabela_notas.loc[tabela_notas['id_materia']==0].index, inplace=True) # Não é possivel saber qual materia ele fez\n",
    "tabela_notas['id'] = range(tabela_notas.shape[0])\n",
    "tabela_notas.set_index('id', inplace=True)\n",
    "tabela_notas.index = tabela_notas.index + 1\n",
    "tabela_notas.rename(columns={'id_professor(a)': 'id_professor'}, inplace=True)\n",
    "tabela_notas.to_sql('notas', engine) \n",
    "inspector = inspect(engine) "
   ]
  },
  {
   "cell_type": "code",
   "execution_count": 67,
   "id": "2d5069e4-8070-4dab-aae7-3ea5e1822023",
   "metadata": {},
   "outputs": [],
   "source": [
    "tabela_professores = pd.read_excel('files/tabela_professor.xlsx', index_col=False) # Importando tabela de professores\n",
    "tabela_professores.set_index('Unnamed: 0', inplace=True)\n",
    "tabela_professores.index.rename('id', inplace=True)"
   ]
  },
  {
   "cell_type": "code",
   "execution_count": 6,
   "id": "262e5c86-ae5e-4aff-8fdc-a798f320ee2b",
   "metadata": {},
   "outputs": [],
   "source": [
    "# Para saber qual professor reprova mais tem que pegar todas as notas que ele deu e ver o tanto de notas vermelhas que ele deu, notas_vermelhas/totas_notas"
   ]
  },
  {
   "cell_type": "code",
   "execution_count": 66,
   "id": "70e09402-6b0b-468e-815f-48d824fde8ae",
   "metadata": {},
   "outputs": [],
   "source": [
    "tabela_materias = pd.read_excel('files/tabela_materia.xlsx', index_col=False) # Importando tabela de professores\n",
    "tabela_materias.set_index('Unnamed: 0', inplace=True)\n",
    "tabela_materias.index.rename('id', inplace=True)"
   ]
  },
  {
   "cell_type": "code",
   "execution_count": 64,
   "id": "0b0bf991-9ced-4da9-9db5-9b892c2c9389",
   "metadata": {},
   "outputs": [],
   "source": [
    "# Funções\n",
    "\n",
    "# Selecionando professor para fazer a busca da tabela de todas as avaliações realizadas por ele\n",
    "def seleciona_professor(nome: str):\n",
    "    professor = tabela_professores[tabela_professores['nome'] == nome].index\n",
    "    professor = professor[0]\n",
    "    return professor\n",
    "\n",
    "# Funcao que busca a tabela de avaliacoes feitas pelo professor selecionado\n",
    "def busca_tabela_avaliacoes_professor(nome: str):\n",
    "    query = f'select * from notas where id_professor = {seleciona_professor(nome)}'\n",
    "    notas_professor = pd.read_sql(query, engine)\n",
    "    notas_professor.drop('id', axis=1, inplace=True) # Deletando a coluna de id\n",
    "    return notas_professor\n",
    "\n",
    "# Funcao que pega o dataframe de notas do professor e transforma\n",
    "# em outro dataframe com 2 dados somente ['id_materia'] e ['nota'], \n",
    "# que são as colunaas que irei usar.\n",
    "def simplifica_tabela_avaliacoes(nome: str):\n",
    "    notas_professor = busca_tabela_avaliacoes_professor(nome)\n",
    "    notas_profesor_simplificada = notas_professor[['id_materia', 'nota']]\n",
    "    return notas_profesor_simplificada\n",
    "\n",
    "# Funcao que calcula quantidade de notas dadas por cada professor\n",
    "def qtd_notas_avaliadas(notas_professor_simplificada):\n",
    "    qtd_notas = notas_professor_simplificada.shape[0]\n",
    "    return qtd_notas\n",
    "\n",
    "# Funcao que calcula a quantidade de notas vermelhas que cada professor deu de acordo com cada nota_minima de cada materia\n",
    "def qtd_notas_avaliadas_vermelhas(qtd_notas_avaliadas: int, notas_professor_simplificada):\n",
    "    qtd_notas_vermelhas = 0\n",
    "    \n",
    "    for i in range(qtd_notas_avaliadas):\n",
    "        select = notas_professor_simplificada['id_materia'][i]\n",
    "        if tabela_materias['nota_minima'][tabela_materias.index[select-1]] > notas_professor_simplificada['nota'][i]:\n",
    "            qtd_notas_vermelhas += 1\n",
    "    \n",
    "    return qtd_notas_vermelhas\n",
    "\n",
    "# Pega o nome do professor selecionado\n",
    "def traz_nome_professor(id_professor: int) -> str:\n",
    "    nome_professor = tabela_professores['nome'][id_professor]\n",
    "    return nome_professor\n",
    "\n",
    "# Funcao que calcula a taxa de reprovação dos alunos para cada professor\n",
    "def taxa_reprovacao(nome: str):\n",
    "    notas_professor = simplifica_tabela_avaliacoes(nome)\n",
    "    qtd_notas = qtd_notas_avaliadas(notas_professor)\n",
    "    qtd_notas_vermelhas = qtd_notas_avaliadas_vermelhas(qtd_notas, notas_professor)\n",
    "    \n",
    "    taxa_reprovacao_professor = (qtd_notas_vermelhas / qtd_notas) * 100 # Calculo taxa de reprovação\n",
    "    return taxa_reprovacao_professor\n",
    "\n",
    "# Exportar no excel\n",
    "def exporta_para_excel(itens: list, nome_coluna_itens: str, valores: list, nome_coluna_valores: str, caminho: str):\n",
    "    dados = pd.DataFrame({nome_coluna_itens: itens, nome_coluna_valores: valores})\n",
    "    dados.to_excel(caminho, index=False)"
   ]
  },
  {
   "cell_type": "markdown",
   "id": "72007b07-56c0-412c-bbbd-22eb025a235e",
   "metadata": {},
   "source": [
    "## Calculando taxa de reprovação para todos os professores"
   ]
  },
  {
   "cell_type": "code",
   "execution_count": 65,
   "id": "7893cb02-4ad0-4d0e-bca7-18af84efe87d",
   "metadata": {},
   "outputs": [
    {
     "data": {
      "text/plain": [
       "[62.5, 63.63636363636363, 58.333333333333336, 62.5, 77.77777777777779]"
      ]
     },
     "execution_count": 65,
     "metadata": {},
     "output_type": "execute_result"
    }
   ],
   "source": [
    "taxa_reprovacao_professores = []\n",
    "qtd_professores = tabela_professores.shape[0] + 1\n",
    "\n",
    "for i in range(1, qtd_professores):\n",
    "    taxa_reprovacao_professores.append(taxa_reprovacao(traz_nome_professor(i)))"
   ]
  },
  {
   "cell_type": "code",
   "execution_count": 68,
   "id": "c28eb3e2-dc2a-4385-8cf2-d0c447a196e5",
   "metadata": {},
   "outputs": [],
   "source": [
    "professores = list(tabela_professores['nome'])"
   ]
  },
  {
   "cell_type": "code",
   "execution_count": 45,
   "id": "2fa100e7-b655-48c1-8225-2c4f4ab34052",
   "metadata": {},
   "outputs": [],
   "source": [
    "exporta_para_excel(professores, 'Professor', taxa_reprovacao_professores, 'Taxa de reprovação', 'files/files_questions/question_3_4/taxa_reprovacao_por_prof.xlsx')"
   ]
  },
  {
   "cell_type": "code",
   "execution_count": null,
   "id": "ce9db611-4070-48bb-8f33-807e89b72563",
   "metadata": {},
   "outputs": [],
   "source": []
  }
 ],
 "metadata": {
  "kernelspec": {
   "display_name": "Python 3 (ipykernel)",
   "language": "python",
   "name": "python3"
  },
  "language_info": {
   "codemirror_mode": {
    "name": "ipython",
    "version": 3
   },
   "file_extension": ".py",
   "mimetype": "text/x-python",
   "name": "python",
   "nbconvert_exporter": "python",
   "pygments_lexer": "ipython3",
   "version": "3.9.7"
  }
 },
 "nbformat": 4,
 "nbformat_minor": 5
}
