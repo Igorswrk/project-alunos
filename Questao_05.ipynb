{
 "cells": [
  {
   "cell_type": "markdown",
   "id": "e798b08c-28b5-4066-955b-d2e3631714b4",
   "metadata": {},
   "source": [
    "# Qual curso tem menor desvio padrão de notas ?"
   ]
  },
  {
   "cell_type": "code",
   "execution_count": 24,
   "id": "0363b3e4-47f9-4a75-83f5-30b77bdca1b1",
   "metadata": {},
   "outputs": [],
   "source": [
    "import pandas as pd\n",
    "import numpy as np\n",
    "from sqlalchemy import create_engine, MetaData, Table, inspect "
   ]
  },
  {
   "cell_type": "code",
   "execution_count": 25,
   "id": "7869d2d6-1147-4a17-a4f0-78dac6bb5589",
   "metadata": {},
   "outputs": [
    {
     "data": {
      "text/plain": [
       "Engine(sqlite:///:memory:)"
      ]
     },
     "execution_count": 25,
     "metadata": {},
     "output_type": "execute_result"
    }
   ],
   "source": [
    "engine = create_engine('sqlite:///:memory:') # Criando banco SQL\n",
    "engine "
   ]
  },
  {
   "cell_type": "code",
   "execution_count": 26,
   "id": "99c6445a-cac6-4f3c-b600-6c39c26dd0df",
   "metadata": {},
   "outputs": [
    {
     "name": "stdout",
     "output_type": "stream",
     "text": [
      "['notas']\n"
     ]
    }
   ],
   "source": [
    "tabela_notas = pd.read_excel('files/tabela_nota.xlsx') # Importando tabela de notas\n",
    "tabela_notas.drop(tabela_notas.loc[tabela_notas['id_materia']==0].index, inplace=True) # Não é possivel saber qual materia ele fez\n",
    "tabela_notas['id'] = range(tabela_notas.shape[0])\n",
    "tabela_notas.set_index('id', inplace=True)\n",
    "tabela_notas.index = tabela_notas.index + 1\n",
    "tabela_notas.rename(columns={'id_professor(a)': 'id_professor'}, inplace=True)\n",
    "tabela_notas.to_sql('notas', engine) \n",
    "inspector = inspect(engine) \n",
    "print(inspector.get_table_names())"
   ]
  },
  {
   "cell_type": "code",
   "execution_count": 65,
   "id": "ad66938f-15d6-4c2e-b81d-4b1c5372b37b",
   "metadata": {},
   "outputs": [],
   "source": [
    "tabela_estudantes = pd.read_excel('files/tabela_estudante.xlsx', index_col=False) # Importando tabela de alunos\n",
    "tabela_estudantes.set_index('Unnamed: 0', inplace=True)\n",
    "tabela_estudantes.index.rename('id', inplace=True)"
   ]
  },
  {
   "cell_type": "code",
   "execution_count": 59,
   "id": "92be57fa-c1a6-4420-83a1-83e592d4a9ff",
   "metadata": {},
   "outputs": [],
   "source": [
    "# Buscando todos os alunos do curso de um determinado curso\n",
    "def busca_estudantes(curso: str):\n",
    "    estudantes = tabela_estudantes[tabela_estudantes['curso'] == curso]\n",
    "    return estudantes\n",
    "\n",
    "\n",
    "# Preenchendo lista com todas as notas do curso\n",
    "def preenchendo_lista_notas(estudantes):\n",
    "    lista_notas = []\n",
    "    \n",
    "    for i in range(estudantes.shape[0]):\n",
    "        query = f'select * from notas where id_estudante = {estudantes.index[i]}'\n",
    "        notas = pd.read_sql(query, engine)\n",
    "        lista_notas.append(notas['nota'].tolist())\n",
    "        \n",
    "    return lista_notas\n",
    "\n",
    "# Pega a lista de listas e transforma em um vetor com os valores\n",
    "def transforma_list(tamanho_notas, lista_notas):\n",
    "    lista_ = []\n",
    "    \n",
    "    for i in range(tamanho_notas):\n",
    "        for j in range(len(lista_notas[i])):\n",
    "            lista_.append(lista_notas[i][j])\n",
    "    \n",
    "    return lista_\n",
    "\n",
    "# Exportar no excel\n",
    "def exporta_para_excel(itens: list, nome_coluna_itens: str, valores: list, nome_coluna_valores: str, caminho: str):\n",
    "    dados = pd.DataFrame({nome_coluna_itens: itens, nome_coluna_valores: valores})\n",
    "    dados.to_excel(caminho, index=False)"
   ]
  },
  {
   "cell_type": "markdown",
   "id": "c191e3f5-080a-45c2-a837-a6fbc346484a",
   "metadata": {},
   "source": [
    "## Estatística"
   ]
  },
  {
   "cell_type": "code",
   "execution_count": 60,
   "id": "6801c2f4-33d7-4349-aa4f-a8313e7e123f",
   "metadata": {},
   "outputs": [
    {
     "data": {
      "text/plain": [
       "3.153866674417294"
      ]
     },
     "execution_count": 60,
     "metadata": {},
     "output_type": "execute_result"
    }
   ],
   "source": [
    "estudantes_estatistica = busca_estudantes('Estatística')\n",
    "lista_notas_estatistica = []\n",
    "lista_notas_estatistica = preenchendo_lista_notas(estudantes_estatistica)\n",
    "lista_notas_estatistica = transforma_df_para_list(6, lista_notas_estatistica)\n",
    "desvio_padrao_estatistica = np.std(lista_notas_estatistica)\n",
    "desvio_padrao_estatistica"
   ]
  },
  {
   "cell_type": "markdown",
   "id": "d91dbd0c-e894-4173-886b-bc28fad550dd",
   "metadata": {},
   "source": [
    "## Matemática Aplicada"
   ]
  },
  {
   "cell_type": "code",
   "execution_count": 61,
   "id": "3bedc6ae-784c-452a-8d4a-bd84df4f7964",
   "metadata": {},
   "outputs": [
    {
     "data": {
      "text/plain": [
       "2.9765752132274432"
      ]
     },
     "execution_count": 61,
     "metadata": {},
     "output_type": "execute_result"
    }
   ],
   "source": [
    "estudantes_matematica_aplicada = busca_estudantes('Matemática Aplicada')\n",
    "lista_notas_matematica_aplicada = []\n",
    "lista_notas_matematica_aplicada = preenchendo_lista_notas(estudantes_matematica_aplicada)\n",
    "lista_notas_matematica_aplicada = transforma_df_para_list(6, lista_notas_matematica_aplicada)\n",
    "desvio_padrao_matematica_aplicada = np.std(lista_notas_matematica_aplicada)\n",
    "desvio_padrao_matematica_aplicada"
   ]
  },
  {
   "cell_type": "code",
   "execution_count": 64,
   "id": "bef888d7-8c0e-4748-88c8-fd368223b2ef",
   "metadata": {},
   "outputs": [],
   "source": [
    "exporta_para_excel(cursos, 'Curso', desvio_padrao_de_notas, 'Desvio Padrão de Notas', 'files/files_questions/question_5/desvio_padrao_nota_curso.xlsx')"
   ]
  }
 ],
 "metadata": {
  "kernelspec": {
   "display_name": "Python 3 (ipykernel)",
   "language": "python",
   "name": "python3"
  },
  "language_info": {
   "codemirror_mode": {
    "name": "ipython",
    "version": 3
   },
   "file_extension": ".py",
   "mimetype": "text/x-python",
   "name": "python",
   "nbconvert_exporter": "python",
   "pygments_lexer": "ipython3",
   "version": "3.9.7"
  }
 },
 "nbformat": 4,
 "nbformat_minor": 5
}
