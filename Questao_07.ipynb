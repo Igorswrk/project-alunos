{
 "cells": [
  {
   "cell_type": "markdown",
   "id": "5e6dbbde-5fb0-4cc6-bb9b-19aa5710be4d",
   "metadata": {},
   "source": [
    "# Qual materia os alunos faltam mais "
   ]
  },
  {
   "cell_type": "code",
   "execution_count": 171,
   "id": "99208b53-91fb-4f07-a8cc-de2d93ef0597",
   "metadata": {},
   "outputs": [],
   "source": [
    "import numpy as np\n",
    "import pandas as pd\n",
    "from sqlalchemy import create_engine, MetaData, Table, inspect "
   ]
  },
  {
   "cell_type": "code",
   "execution_count": 172,
   "id": "92f60ff6-cfb7-422b-8b67-f3fc9268cba0",
   "metadata": {},
   "outputs": [],
   "source": [
    "engine = create_engine('sqlite:///:memory:') # Criando banco SQL"
   ]
  },
  {
   "cell_type": "code",
   "execution_count": 173,
   "id": "d8196a9c-ea19-41a1-9d1e-580e74921bae",
   "metadata": {},
   "outputs": [
    {
     "name": "stdout",
     "output_type": "stream",
     "text": [
      "['notas']\n"
     ]
    }
   ],
   "source": [
    "tabela_notas = pd.read_excel('files/tabela_nota.xlsx') # Importando tabela de notas\n",
    "tabela_notas.drop(tabela_notas.loc[tabela_notas['id_materia']==0].index, inplace=True) # Não é possivel saber qual materia ele fez\n",
    "tabela_notas['id'] = range(tabela_notas.shape[0])\n",
    "tabela_notas.set_index('id', inplace=True)\n",
    "tabela_notas.index = tabela_notas.index + 1\n",
    "tabela_notas.rename(columns={'id_professor(a)': 'id_professor'}, inplace=True)\n",
    "tabela_notas.to_sql('notas', engine) \n",
    "inspector = inspect(engine) \n",
    "print(inspector.get_table_names())"
   ]
  },
  {
   "cell_type": "code",
   "execution_count": 174,
   "id": "fb161a39-ec24-4431-ab97-3e2a08fed3e0",
   "metadata": {},
   "outputs": [
    {
     "data": {
      "text/plain": [
       "291"
      ]
     },
     "execution_count": 174,
     "metadata": {},
     "output_type": "execute_result"
    }
   ],
   "source": [
    "# frequencia relativa\n",
    "total_de_faltas = sum(tabela_notas['faltas'])\n",
    "total_de_faltas"
   ]
  },
  {
   "cell_type": "code",
   "execution_count": 175,
   "id": "2e7bb05a-84dc-421b-afd3-a8a64b0d1ff9",
   "metadata": {},
   "outputs": [],
   "source": [
    "# importa tabela de materias\n",
    "tabela_materias = pd.read_excel('files/tabela_materia.xlsx', index_col=False) # Importando tabela de professores\n",
    "tabela_materias.set_index('Unnamed: 0', inplace=True)\n",
    "tabela_materias.index.rename('id', inplace=True)"
   ]
  },
  {
   "cell_type": "code",
   "execution_count": 176,
   "id": "5b6352b5-ac8a-407e-b4cb-a34988f0a7a4",
   "metadata": {},
   "outputs": [],
   "source": [
    "def calcula_media_faltas_por_materia(id_materia: int) -> float: \n",
    "    \n",
    "    total_faltas = sum(tabela_notas[tabela_notas['id_materia'] == id_materia]['faltas'])\n",
    "    total_vezes_materia_dada = 0\n",
    "    trimestres = list(tabela_notas['data_inicio_trimestre'].drop_duplicates())\n",
    "\n",
    "    for i in range(len(trimestres)):\n",
    "        trimestre_busca = tabela_notas[tabela_notas['data_inicio_trimestre'] == trimestres[i]]\n",
    "        trimestre_busca = trimestre_busca[trimestre_busca['id_materia'] == id_materia]\n",
    "\n",
    "        if trimestre_busca.shape[0] == True:\n",
    "            total_vezes_materia_dada += 1\n",
    "\n",
    "    media_faltas = total_faltas/total_vezes_materia_dada\n",
    "    return media_faltas\n",
    "\n",
    "# Exportar no excel\n",
    "def exporta_para_excel(itens: list, nome_coluna_itens: str, valores: list, nome_coluna_valores: str, caminho: str):\n",
    "    dados = pd.DataFrame({nome_coluna_itens: itens, nome_coluna_valores: valores})\n",
    "    dados.to_excel(caminho, index=False)\n",
    "    \n",
    "# busca lista de todas as materias\n",
    "materias = pd.read_excel('files/tabela_materia.xlsx')['descricao']\n",
    "materias = list(materias)"
   ]
  },
  {
   "cell_type": "code",
   "execution_count": 177,
   "id": "58a8b5ce-e46f-4ec1-8c22-5baf149596d6",
   "metadata": {},
   "outputs": [
    {
     "data": {
      "text/plain": [
       "[7.666666666666667,\n",
       " 6.75,\n",
       " 8.0,\n",
       " 5.6,\n",
       " 6.4,\n",
       " 7.0,\n",
       " 6.666666666666667,\n",
       " 7.75,\n",
       " 4.25,\n",
       " 5.5]"
      ]
     },
     "execution_count": 177,
     "metadata": {},
     "output_type": "execute_result"
    }
   ],
   "source": [
    "media_falta_materias = []\n",
    "qtd_materias = tabela_materias.shape[0] + 1 \n",
    "\n",
    "for i in range(1, qtd_materias):\n",
    "    media_falta_materias.append(calcula_media_faltas_por_materia(i))\n",
    "    \n",
    "media_falta_materias"
   ]
  },
  {
   "cell_type": "code",
   "execution_count": 178,
   "id": "c2de80be-4839-4c4a-8778-3dd67080a68a",
   "metadata": {},
   "outputs": [],
   "source": [
    "exporta_para_excel(materias, 'Materias', media_falta_materias, 'Médias de Faltas', 'files/files_questions/question_7/media_de_faltas_por_materia.xlsx')"
   ]
  },
  {
   "cell_type": "code",
   "execution_count": null,
   "id": "2b6d53f5-3db5-4f0c-b252-ccf697493e40",
   "metadata": {},
   "outputs": [],
   "source": []
  }
 ],
 "metadata": {
  "kernelspec": {
   "display_name": "Python 3 (ipykernel)",
   "language": "python",
   "name": "python3"
  },
  "language_info": {
   "codemirror_mode": {
    "name": "ipython",
    "version": 3
   },
   "file_extension": ".py",
   "mimetype": "text/x-python",
   "name": "python",
   "nbconvert_exporter": "python",
   "pygments_lexer": "ipython3",
   "version": "3.9.7"
  }
 },
 "nbformat": 4,
 "nbformat_minor": 5
}
